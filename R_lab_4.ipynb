{
 "cells": [
  {
   "cell_type": "code",
   "execution_count": 2,
   "metadata": {},
   "outputs": [],
   "source": [
    "# n is my id\n",
    "n <- 21\n",
    "# Generate data\n",
    "k <- c(1:150)\n",
    "a <- k * log((k^2) * n + pi) - floor(k * log((k^2) * n + pi))\n",
    "\n",
    "# Sample realizations\n",
    "x <- qnorm(a[1:100])\n",
    "y <- qnorm(a[101:150])"
   ]
  },
  {
   "cell_type": "markdown",
   "metadata": {},
   "source": [
    "1. Testing H0 : µ1 = 0 vs. H1 : µ < 0; σ^2 is unknown. That's why use t-test.  \n",
    "2. P(x ∈ RR)=0.05, where RR = {x ∈ R, test_result > с}\n",
    "3. Shouldn't be rejected because it's in confidence interval\n",
    "4. p-value = 0.7647 don't reject"
   ]
  },
  {
   "cell_type": "code",
   "execution_count": 3,
   "metadata": {},
   "outputs": [
    {
     "data": {
      "text/plain": [
       "\n",
       "\tOne Sample t-test\n",
       "\n",
       "data:  x\n",
       "t = 0.72419, df = 99, p-value = 0.7647\n",
       "alternative hypothesis: true mean is less than 0\n",
       "95 percent confidence interval:\n",
       "      -Inf 0.2452969\n",
       "sample estimates:\n",
       "mean of x \n",
       "0.0744956 \n"
      ]
     },
     "metadata": {},
     "output_type": "display_data"
    }
   ],
   "source": [
    "t.test(x, mu=0, alt=\"less\")"
   ]
  },
  {
   "cell_type": "markdown",
   "metadata": {},
   "source": [
    "σ^2 is known. Use z-test"
   ]
  },
  {
   "cell_type": "code",
   "execution_count": 6,
   "metadata": {},
   "outputs": [
    {
     "data": {
      "text/plain": [
       "\n",
       "\tWelch Two Sample t-test\n",
       "\n",
       "data:  x and y\n",
       "t = -0.6238, df = 91.598, p-value = 0.5343\n",
       "alternative hypothesis: true difference in means is not equal to 0\n",
       "95 percent confidence interval:\n",
       " -0.4904848  0.2560300\n",
       "sample estimates:\n",
       "mean of x mean of y \n",
       "0.0744956 0.1917230 \n"
      ]
     },
     "metadata": {},
     "output_type": "display_data"
    }
   ],
   "source": [
    "t.test(x, y, sigma = 2)"
   ]
  },
  {
   "cell_type": "code",
   "execution_count": 10,
   "metadata": {},
   "outputs": [
    {
     "data": {
      "text/plain": [
       "\n",
       "Results of Hypothesis Test\n",
       "--------------------------\n",
       "\n",
       "Null Hypothesis:                 variance = 1\n",
       "\n",
       "Alternative Hypothesis:          True variance is not equal to 1\n",
       "\n",
       "Test Name:                       Chi-Squared Test on Variance\n",
       "\n",
       "Estimated Parameter(s):          variance = 1.058184\n",
       "\n",
       "Data:                            x\n",
       "\n",
       "Test Statistic:                  Chi-Squared = 104.7603\n",
       "\n",
       "Test Statistic Parameter:        df = 99\n",
       "\n",
       "P-value:                         0.6535337\n",
       "\n",
       "95% Confidence Interval:         LCL = 0.8157501\n",
       "                                 UCL = 1.4280086\n"
      ]
     },
     "metadata": {},
     "output_type": "display_data"
    }
   ],
   "source": [
    "varTest(x)"
   ]
  },
  {
   "cell_type": "code",
   "execution_count": null,
   "metadata": {},
   "outputs": [],
   "source": []
  }
 ],
 "metadata": {
  "kernelspec": {
   "display_name": "R",
   "language": "R",
   "name": "ir"
  },
  "language_info": {
   "codemirror_mode": "r",
   "file_extension": ".r",
   "mimetype": "text/x-r-source",
   "name": "R",
   "pygments_lexer": "r",
   "version": "3.4.1"
  }
 },
 "nbformat": 4,
 "nbformat_minor": 2
}
